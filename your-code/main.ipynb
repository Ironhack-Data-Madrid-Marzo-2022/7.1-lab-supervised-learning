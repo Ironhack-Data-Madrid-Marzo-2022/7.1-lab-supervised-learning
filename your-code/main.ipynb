{
 "cells": [
  {
   "cell_type": "markdown",
   "metadata": {
    "toc": true
   },
   "source": [
    "<h1>Table of Contents<span class=\"tocSkip\"></span></h1>\n",
    "<div class=\"toc\"><ul class=\"toc-item\"><li><span><a href=\"#Before-your-start:\" data-toc-modified-id=\"Before-your-start:-1\"><span class=\"toc-item-num\">1&nbsp;&nbsp;</span>Before your start:</a></span></li><li><span><a href=\"#Challenge-1---Explore-The-Dataset\" data-toc-modified-id=\"Challenge-1---Explore-The-Dataset-2\"><span class=\"toc-item-num\">2&nbsp;&nbsp;</span>Challenge 1 - Explore The Dataset</a></span><ul class=\"toc-item\"><li><ul class=\"toc-item\"><li><ul class=\"toc-item\"><li><span><a href=\"#Explore-the-data-from-an-bird's-eye-view.\" data-toc-modified-id=\"Explore-the-data-from-an-bird's-eye-view.-2.0.0.1\"><span class=\"toc-item-num\">2.0.0.1&nbsp;&nbsp;</span>Explore the data from an bird's-eye view.</a></span></li><li><span><a href=\"#Next,-evaluate-if-the-columns-in-this-dataset-are-strongly-correlated.\" data-toc-modified-id=\"Next,-evaluate-if-the-columns-in-this-dataset-are-strongly-correlated.-2.0.0.2\"><span class=\"toc-item-num\">2.0.0.2&nbsp;&nbsp;</span>Next, evaluate if the columns in this dataset are strongly correlated.</a></span></li></ul></li></ul></li></ul></li><li><span><a href=\"#Challenge-2---Remove-Column-Collinearity.\" data-toc-modified-id=\"Challenge-2---Remove-Column-Collinearity.-3\"><span class=\"toc-item-num\">3&nbsp;&nbsp;</span>Challenge 2 - Remove Column Collinearity.</a></span></li><li><span><a href=\"#Challenge-3---Handle-Missing-Values\" data-toc-modified-id=\"Challenge-3---Handle-Missing-Values-4\"><span class=\"toc-item-num\">4&nbsp;&nbsp;</span>Challenge 3 - Handle Missing Values</a></span><ul class=\"toc-item\"><li><ul class=\"toc-item\"><li><ul class=\"toc-item\"><li><span><a href=\"#In-the-cells-below,-handle-the-missing-values-from-the-dataset.-Remember-to-comment-the-rationale-of-your-decisions.\" data-toc-modified-id=\"In-the-cells-below,-handle-the-missing-values-from-the-dataset.-Remember-to-comment-the-rationale-of-your-decisions.-4.0.0.1\"><span class=\"toc-item-num\">4.0.0.1&nbsp;&nbsp;</span>In the cells below, handle the missing values from the dataset. Remember to comment the rationale of your decisions.</a></span></li><li><span><a href=\"#Again,-examine-the-number-of-missing-values-in-each-column.\" data-toc-modified-id=\"Again,-examine-the-number-of-missing-values-in-each-column.-4.0.0.2\"><span class=\"toc-item-num\">4.0.0.2&nbsp;&nbsp;</span>Again, examine the number of missing values in each column.</a></span></li></ul></li></ul></li></ul></li><li><span><a href=\"#Challenge-4---Handle-WHOIS_*-Categorical-Data\" data-toc-modified-id=\"Challenge-4---Handle-WHOIS_*-Categorical-Data-5\"><span class=\"toc-item-num\">5&nbsp;&nbsp;</span>Challenge 4 - Handle <code>WHOIS_*</code> Categorical Data</a></span><ul class=\"toc-item\"><li><ul class=\"toc-item\"><li><ul class=\"toc-item\"><li><span><a href=\"#In-the-cells-below,-fix-the-country-values-as-intructed-above.\" data-toc-modified-id=\"In-the-cells-below,-fix-the-country-values-as-intructed-above.-5.0.0.1\"><span class=\"toc-item-num\">5.0.0.1&nbsp;&nbsp;</span>In the cells below, fix the country values as intructed above.</a></span></li><li><span><a href=\"#If-a-limited-number-of-values-account-for-the-majority-of-data,-we-can-retain-these-top-values-and-re-label-all-other-rare-values.\" data-toc-modified-id=\"If-a-limited-number-of-values-account-for-the-majority-of-data,-we-can-retain-these-top-values-and-re-label-all-other-rare-values.-5.0.0.2\"><span class=\"toc-item-num\">5.0.0.2&nbsp;&nbsp;</span>If a limited number of values account for the majority of data, we can retain these top values and re-label all other rare values.</a></span></li><li><span><a href=\"#After-verifying,-now-let's-keep-the-top-10-values-of-the-column-and-re-label-other-columns-with-OTHER.\" data-toc-modified-id=\"After-verifying,-now-let's-keep-the-top-10-values-of-the-column-and-re-label-other-columns-with-OTHER.-5.0.0.3\"><span class=\"toc-item-num\">5.0.0.3&nbsp;&nbsp;</span>After verifying, now let's keep the top 10 values of the column and re-label other columns with <code>OTHER</code>.</a></span></li><li><span><a href=\"#In-the-next-cell,-drop-['WHOIS_STATEPRO',-'WHOIS_REGDATE',-'WHOIS_UPDATED_DATE'].\" data-toc-modified-id=\"In-the-next-cell,-drop-['WHOIS_STATEPRO',-'WHOIS_REGDATE',-'WHOIS_UPDATED_DATE'].-5.0.0.4\"><span class=\"toc-item-num\">5.0.0.4&nbsp;&nbsp;</span>In the next cell, drop <code>['WHOIS_STATEPRO', 'WHOIS_REGDATE', 'WHOIS_UPDATED_DATE']</code>.</a></span></li></ul></li></ul></li></ul></li><li><span><a href=\"#Challenge-5---Handle-Remaining-Categorical-Data-&amp;-Convert-to-Ordinal\" data-toc-modified-id=\"Challenge-5---Handle-Remaining-Categorical-Data-&amp;-Convert-to-Ordinal-6\"><span class=\"toc-item-num\">6&nbsp;&nbsp;</span>Challenge 5 - Handle Remaining Categorical Data &amp; Convert to Ordinal</a></span><ul class=\"toc-item\"><li><ul class=\"toc-item\"><li><ul class=\"toc-item\"><li><span><a href=\"#URL-is-easy.-We'll-simply-drop-it-because-it-has-too-many-unique-values-that-there's-no-way-for-us-to-consolidate.\" data-toc-modified-id=\"URL-is-easy.-We'll-simply-drop-it-because-it-has-too-many-unique-values-that-there's-no-way-for-us-to-consolidate.-6.0.0.1\"><span class=\"toc-item-num\">6.0.0.1&nbsp;&nbsp;</span><code>URL</code> is easy. We'll simply drop it because it has too many unique values that there's no way for us to consolidate.</a></span></li><li><span><a href=\"#Print-the-unique-value-counts-of-CHARSET.-You-see-there-are-only-a-few-unique-values.-So-we-can-keep-it-as-it-is.\" data-toc-modified-id=\"Print-the-unique-value-counts-of-CHARSET.-You-see-there-are-only-a-few-unique-values.-So-we-can-keep-it-as-it-is.-6.0.0.2\"><span class=\"toc-item-num\">6.0.0.2&nbsp;&nbsp;</span>Print the unique value counts of <code>CHARSET</code>. You see there are only a few unique values. So we can keep it as it is.</a></span></li><li><span><a href=\"#Before-you-think-of-your-own-solution,-don't-read-the-instructions-that-come-next.\" data-toc-modified-id=\"Before-you-think-of-your-own-solution,-don't-read-the-instructions-that-come-next.-6.0.0.3\"><span class=\"toc-item-num\">6.0.0.3&nbsp;&nbsp;</span>Before you think of your own solution, don't read the instructions that come next.</a></span></li></ul></li></ul></li></ul></li><li><span><a href=\"#Challenge-6---Modeling,-Prediction,-and-Evaluation\" data-toc-modified-id=\"Challenge-6---Modeling,-Prediction,-and-Evaluation-7\"><span class=\"toc-item-num\">7&nbsp;&nbsp;</span>Challenge 6 - Modeling, Prediction, and Evaluation</a></span><ul class=\"toc-item\"><li><ul class=\"toc-item\"><li><ul class=\"toc-item\"><li><span><a href=\"#In-this-lab,-we-will-try-two-different-models-and-compare-our-results.\" data-toc-modified-id=\"In-this-lab,-we-will-try-two-different-models-and-compare-our-results.-7.0.0.1\"><span class=\"toc-item-num\">7.0.0.1&nbsp;&nbsp;</span>In this lab, we will try two different models and compare our results.</a></span></li><li><span><a href=\"#Our-second-algorithm-is-is-DecisionTreeClassifier\" data-toc-modified-id=\"Our-second-algorithm-is-is-DecisionTreeClassifier-7.0.0.2\"><span class=\"toc-item-num\">7.0.0.2&nbsp;&nbsp;</span>Our second algorithm is is DecisionTreeClassifier</a></span></li><li><span><a href=\"#We'll-create-another-DecisionTreeClassifier-model-with-max_depth=5.\" data-toc-modified-id=\"We'll-create-another-DecisionTreeClassifier-model-with-max_depth=5.-7.0.0.3\"><span class=\"toc-item-num\">7.0.0.3&nbsp;&nbsp;</span>We'll create another DecisionTreeClassifier model with max_depth=5.</a></span></li></ul></li></ul></li></ul></li><li><span><a href=\"#Bonus-Challenge---Feature-Scaling\" data-toc-modified-id=\"Bonus-Challenge---Feature-Scaling-8\"><span class=\"toc-item-num\">8&nbsp;&nbsp;</span>Bonus Challenge - Feature Scaling</a></span></li></ul></div>"
   ]
  },
  {
   "cell_type": "markdown",
   "metadata": {},
   "source": [
    "# Before your start:\n",
    "- Read the README.md file\n",
    "- Comment as much as you can and use the resources in the README.md file\n",
    "- Happy learning!"
   ]
  },
  {
   "cell_type": "code",
   "execution_count": 1,
   "metadata": {},
   "outputs": [],
   "source": [
    "# Import your libraries:\n",
    "\n",
    "%matplotlib inline\n",
    "\n",
    "import numpy as np\n",
    "import pandas as pd\n",
    "import pylab as plt\n",
    "import seaborn as sns\n",
    "sns.set(style='white')\n",
    "\n",
    "def replace_regex(repl_dict, df, col):\n",
    "    try:\n",
    "        for key in repl_dict:\n",
    "            for el in repl_dict[key]:\n",
    "                df[col]=df[col].str.replace(el, key, regex=True, case=False)\n",
    "                # df[col]=df[col].str.replace(r'(\"ppe\"), key, regex=True)\n",
    "        return True\n",
    "    except:\n",
    "        return False"
   ]
  },
  {
   "cell_type": "markdown",
   "metadata": {},
   "source": [
    "In this lab, we will explore a dataset that describes websites with different features and labels them either benign or malicious . We will use supervised learning algorithms to figure out what feature patterns malicious websites are likely to have and use our model to predict malicious websites.\n",
    "\n",
    "Your features will be:\n",
    "\n",
    "+ URL: it is the anonymous identification of the URL analyzed in the study\n",
    "+ URL_LENGTH: it is the number of characters in the URL\n",
    "+ NUMBER_SPECIAL_CHARACTERS: it is number of special characters identified in the URL, such as, “/”, “%”, “#”, “&”, “. “, “=”\n",
    "+ CHARSET: it is a categorical value and its meaning is the character encoding standard (also called character set).\n",
    "+ SERVER: it is a categorical value and its meaning is the operative system of the server got from the packet response.\n",
    "+ CONTENT_LENGTH: it represents the content size of the HTTP header.\n",
    "+ WHOIS_COUNTRY: it is a categorical variable, its values are the countries we got from the server response (specifically, our script used the API of Whois).\n",
    "+ WHOIS_STATEPRO: it is a categorical variable, its values are the states we got from the server response (specifically, our script used the API of Whois).\n",
    "+ WHOIS_REGDATE: Whois provides the server registration date, so, this variable has date values with format DD/MM/YYY HH:MM\n",
    "+ WHOIS_UPDATED_DATE: Through the Whois we got the last update date from the server analyzed\n",
    "+ TCP_CONVERSATION_EXCHANGE: This variable is the number of TCP packets exchanged between the server and our honeypot client\n",
    "+ DIST_REMOTE_TCP_PORT: it is the number of the ports detected and different to TCP\n",
    "+ REMOTE_IPS: this variable has the total number of IPs connected to the honeypot\n",
    "+ APP_BYTES: this is the number of bytes transfered\n",
    "+ SOURCE_APP_PACKETS: packets sent from the honeypot to the server\n",
    "+ REMOTE_APP_PACKETS: packets received from the server\n",
    "+ APP_PACKETS: this is the total number of IP packets generated during the communication between the honeypot and the server\n",
    "+ DNS_QUERY_TIMES: this is the number of DNS packets generated during the communication between the honeypot and the server\n",
    "+ TYPE: this is a categorical variable, its values represent the type of web page analyzed, specifically, 1 is for malicious websites and 0 is for benign websites\n",
    "\n",
    "# Challenge 1 - Explore The Dataset\n",
    "\n",
    "Let's start by exploring the dataset. First load the data file:\n",
    "\n",
    "\n",
    "*Source: [kaggle](https://www.kaggle.com/viratkothari/malicious-and-benign-websites-classification)*"
   ]
  },
  {
   "cell_type": "markdown",
   "source": [
    "En esta práctica de laboratorio, exploraremos un conjunto de datos que describe sitios web con diferentes características y los etiqueta como benignos o maliciosos.\n",
    "\n",
    "Usaremos algoritmos de aprendizaje supervisado para descubrir qué patrones de funciones es probable que tengan los sitios web maliciosos y usaremos nuestro modelo para predecir sitios web maliciosos.\n",
    "\n",
    "Tus características serán:\n",
    "\n",
    "URL: es la identificación anónima de la URL analizada en el estudio\n",
    "\n",
    "URL_LENGTH: es el número de caracteres de la URL\n",
    "\n",
    "NUMBER_SPECIAL_CHARACTERS: es la cantidad de caracteres especiales identificados en la URL, tales como, “/”, “%”, “#”, “&”, “. “, “=”\n",
    "\n",
    "CHARSET: es un valor categórico y su significado es el estándar de codificación de caracteres (también llamado conjunto de caracteres).\n",
    "\n",
    "SERVIDOR: es un valor categórico y su significado es el sistema operativo del servidor obtenido de la respuesta del paquete.\n",
    "\n",
    "CONTENT_LENGTH: representa el tamaño del contenido del encabezado HTTP.\n",
    "\n",
    "WHOIS_COUNTRY: es una variable categórica, sus valores son los países que obtuvimos de la respuesta del servidor (específicamente, nuestro script usó la API de Whois).\n",
    "\n",
    "WHOIS_STATEPRO: es una variable categórica, sus valores son los estados que obtuvimos de la respuesta del servidor (específicamente, nuestro script usó la API de Whois).\n",
    "\n",
    "WHOIS_REGDATE: Whois proporciona la fecha de registro del servidor, por lo que esta variable tiene valores de fecha con formato DD/MM/YYY HH:MM\n",
    "\n",
    "WHOIS_UPDATED_DATE: A través del Whois obtuvimos la última fecha de actualización del servidor analizado\n",
    "\n",
    "TCP_CONVERSATION_EXCHANGE: Esta variable es la cantidad de paquetes TCP intercambiados entre el servidor y nuestro cliente honeypot\n",
    "\n",
    "DIST_REMOTE_TCP_PORT: es el número de puertos detectados y diferentes a TCP\n",
    "\n",
    "REMOTE_IPS: esta variable tiene el número total de IPs conectadas al honeypot\n",
    "\n",
    "APP_BYTES: este es el número de bytes transferidos\n",
    "\n",
    "SOURCE_APP_PACKETS: paquetes enviados desde el honeypot al servidor\n",
    "\n",
    "REMOTE_APP_PACKETS: paquetes recibidos del servidor\n",
    "\n",
    "APP_PACKETS: este es el número total de paquetes IP generados durante la comunicación entre el honeypot y el servidor\n",
    "\n",
    "DNS_QUERY_TIMES: este es el número de paquetes DNS generados durante la comunicación entre el honeypot y el servidor\n",
    "\n",
    "TIPO: esta es una variable categórica, sus valores representan el tipo de página web analizada, específicamente, 1 es para sitios web maliciosos y 0 es para sitios web benignos"
   ],
   "metadata": {
    "collapsed": false,
    "pycharm": {
     "name": "#%% md\n"
    }
   }
  },
  {
   "cell_type": "code",
   "execution_count": 2,
   "metadata": {},
   "outputs": [],
   "source": [
    "# Read csv\n",
    "websites = pd.read_csv('../website.csv')"
   ]
  },
  {
   "cell_type": "markdown",
   "metadata": {},
   "source": [
    "#### Explore the data from an bird's-eye view.\n",
    "\n",
    "You should already been very familiar with the procedures now so we won't provide the instructions step by step. Reflect on what you did in the previous labs and explore the dataset.\n",
    "\n",
    "Things you'll be looking for:\n",
    "\n",
    "* What the dataset looks like?\n",
    "* What are the data types?\n",
    "* Which columns contain the features of the websites?\n",
    "* Which column contains the feature we will predict? What is the code standing for benign vs malicious websites?\n",
    "* Do we need to transform any of the columns from categorical to ordinal values? If so what are these columns?\n",
    "\n",
    "Feel free to add additional cells for your explorations. Make sure to comment what you find out."
   ]
  },
  {
   "cell_type": "markdown",
   "source": [
    "1. ¿Cómo se ve el conjunto de datos?\n",
    "\n",
    "2. ¿Cuáles son los tipos de datos?\n",
    "\n",
    "3. ¿Qué columnas contienen las características de los sitios web?\n",
    "\n",
    "¿Qué columna contiene la característica que predeciremos? ¿Cuál es el código que representa los sitios web benignos frente a los maliciosos?\n",
    "\n",
    "¿Necesitamos transformar alguna de las columnas de valores categóricos a ordinales? Si es así, ¿cuáles son estas columnas?\n",
    "\n",
    "Siéntase libre de agregar celdas adicionales para sus exploraciones. Asegúrate de comentar lo que averigües."
   ],
   "metadata": {
    "collapsed": false,
    "pycharm": {
     "name": "#%% md\n"
    }
   }
  },
  {
   "cell_type": "code",
   "execution_count": 3,
   "metadata": {},
   "outputs": [
    {
     "name": "stdout",
     "output_type": "stream",
     "text": [
      "<class 'pandas.core.frame.DataFrame'>\n",
      "RangeIndex: 1781 entries, 0 to 1780\n",
      "Data columns (total 21 columns):\n",
      " #   Column                     Non-Null Count  Dtype  \n",
      "---  ------                     --------------  -----  \n",
      " 0   URL                        1781 non-null   object \n",
      " 1   URL_LENGTH                 1781 non-null   int64  \n",
      " 2   NUMBER_SPECIAL_CHARACTERS  1781 non-null   int64  \n",
      " 3   CHARSET                    1781 non-null   object \n",
      " 4   SERVER                     1780 non-null   object \n",
      " 5   CONTENT_LENGTH             969 non-null    float64\n",
      " 6   WHOIS_COUNTRY              1781 non-null   object \n",
      " 7   WHOIS_STATEPRO             1781 non-null   object \n",
      " 8   WHOIS_REGDATE              1781 non-null   object \n",
      " 9   WHOIS_UPDATED_DATE         1781 non-null   object \n",
      " 10  TCP_CONVERSATION_EXCHANGE  1781 non-null   int64  \n",
      " 11  DIST_REMOTE_TCP_PORT       1781 non-null   int64  \n",
      " 12  REMOTE_IPS                 1781 non-null   int64  \n",
      " 13  APP_BYTES                  1781 non-null   int64  \n",
      " 14  SOURCE_APP_PACKETS         1781 non-null   int64  \n",
      " 15  REMOTE_APP_PACKETS         1781 non-null   int64  \n",
      " 16  SOURCE_APP_BYTES           1781 non-null   int64  \n",
      " 17  REMOTE_APP_BYTES           1781 non-null   int64  \n",
      " 18  APP_PACKETS                1781 non-null   int64  \n",
      " 19  DNS_QUERY_TIMES            1780 non-null   float64\n",
      " 20  Type                       1781 non-null   int64  \n",
      "dtypes: float64(2), int64(12), object(7)\n",
      "memory usage: 292.3+ KB\n"
     ]
    }
   ],
   "source": [
    "# Your code here\n",
    "websites.head()\n",
    "websites.info()"
   ]
  },
  {
   "cell_type": "code",
   "execution_count": 4,
   "outputs": [],
   "source": [
    "# Handle WHOIS_REGDATE and WHOIS_UPDATED_DATE cols\n",
    "websites[\"WHOIS_REGDATE\"] = websites[\"WHOIS_REGDATE\"].apply(lambda x: pd.to_datetime(x, errors='coerce'))\n",
    "websites[\"WHOIS_UPDATED_DATE\"] = websites[\"WHOIS_UPDATED_DATE\"].apply(lambda x: pd.to_datetime(x, errors='coerce'))"
   ],
   "metadata": {
    "collapsed": false,
    "pycharm": {
     "name": "#%%\n"
    }
   }
  },
  {
   "cell_type": "markdown",
   "metadata": {},
   "source": [
    "#### Next, evaluate if the columns in this dataset are strongly correlated.\n",
    "\n",
    "In the Mushroom supervised learning lab we did recently, we mentioned we are concerned if our dataset has strongly correlated columns because if it is the case we need to choose certain ML algorithms instead of others. We need to evaluate this for our dataset now.\n",
    "\n",
    "Luckily, most of the columns in this dataset are ordinal which makes things a lot easier for us. In the next cells below, evaluate the level of collinearity of the data.\n",
    "\n",
    "We provide some general directions for you to consult in order to complete this step:\n",
    "\n",
    "1. You will create a correlation matrix using the numeric columns in the dataset.\n",
    "\n",
    "1. Create a heatmap using `seaborn` to visualize which columns have high collinearity.\n",
    "\n",
    "1. Comment on which columns you might need to remove due to high collinearity."
   ]
  },
  {
   "cell_type": "code",
   "execution_count": 5,
   "metadata": {},
   "outputs": [
    {
     "data": {
      "text/plain": "<Figure size 720x720 with 2 Axes>",
      "image/png": "[encoded data removed]"
     },
     "metadata": {},
     "output_type": "display_data"
    }
   ],
   "source": [
    "# Your code here\n",
    "corr=websites.corr()   # correlation matrix\n",
    "\n",
    "fig, ax=plt.subplots(figsize=(10,10))\n",
    "\n",
    "\n",
    "mask=np.triu(np.ones_like(corr, dtype=bool))           # mask for superior triangular matrix\n",
    "\n",
    "color_map=sns.diverging_palette(0, 10, as_cmap=True)   # color palette\n",
    "\n",
    "sns.heatmap(corr,                       # data\n",
    "            mask=mask,                  # white mask\n",
    "            cmap=color_map,             # color\n",
    "            vmax=1,                     # vertical edge\n",
    "            center=0,                   # plot center\n",
    "            square=True,                # data square representation\n",
    "            linewidth=.5,               # linewidth\n",
    "            cbar_kws={'shrink': .5},    # lateral bar legend\n",
    "            ax=ax                       # axes for plot size\n",
    "            );"
   ]
  },
  {
   "cell_type": "code",
   "execution_count": 6,
   "metadata": {},
   "outputs": [],
   "source": [
    "# Your comment here"
   ]
  },
  {
   "cell_type": "markdown",
   "metadata": {},
   "source": [
    "# Challenge 2 - Remove Column Collinearity.\n",
    "\n",
    "From the heatmap you created, you should have seen at least 3 columns that can be removed due to high collinearity. Remove these columns from the dataset.\n",
    "\n",
    "Note that you should remove as few columns as you can. You don't have to remove all the columns at once. But instead, try removing one column, then produce the heatmap again to determine if additional columns should be removed. As long as the dataset no longer contains columns that are correlated for over 90%, you can stop. Also, keep in mind when two columns have high collinearity, you only need to remove one of them but not both.\n",
    "\n",
    "In the cells below, remove as few columns as you can to eliminate the high collinearity in the dataset. Make sure to comment on your way so that the instructional team can learn about your thinking process which allows them to give feedback. At the end, print the heatmap again."
   ]
  },
  {
   "cell_type": "code",
   "execution_count": 7,
   "metadata": {},
   "outputs": [],
   "source": [
    "# Your code here\n",
    "websites.drop([\"TCP_CONVERSATION_EXCHANGE\", \"SOURCE_APP_PACKETS\", \"REMOTE_APP_PACKETS\", \"APP_BYTES\", \"REMOTE_APP_BYTES\", \"SOURCE_APP_BYTES\"], axis=1, inplace=True)"
   ]
  },
  {
   "cell_type": "code",
   "execution_count": 8,
   "metadata": {},
   "outputs": [
    {
     "data": {
      "text/plain": "<Figure size 720x720 with 2 Axes>",
      "image/png": "[encoded data removed]"
     },
     "metadata": {},
     "output_type": "display_data"
    }
   ],
   "source": [
    "# Print heatmap again\n",
    "corr=websites.corr()   # correlation matrix\n",
    "\n",
    "fig, ax=plt.subplots(figsize=(10,10))\n",
    "\n",
    "\n",
    "mask=np.triu(np.ones_like(corr, dtype=bool))           # mask for superior triangular matrix\n",
    "\n",
    "color_map=sns.diverging_palette(0, 10, as_cmap=True)   # color palette\n",
    "\n",
    "sns.heatmap(corr,                       # data\n",
    "            mask=mask,                  # white mask\n",
    "            cmap=color_map,             # color\n",
    "            vmax=1,                     # vertical edge\n",
    "            center=0,                   # plot center\n",
    "            square=True,                # data square representation\n",
    "            linewidth=.5,               # linewidth\n",
    "            cbar_kws={'shrink': .5},    # lateral bar legend\n",
    "            ax=ax                       # axes for plot size\n",
    "            );"
   ]
  },
  {
   "cell_type": "markdown",
   "metadata": {},
   "source": [
    "# Challenge 3 - Handle Missing Values\n",
    "\n",
    "The next step would be handling missing values. **We start by examining the number of missing values in each column, which you will do in the next cell.**"
   ]
  },
  {
   "cell_type": "code",
   "execution_count": 9,
   "metadata": {},
   "outputs": [
    {
     "name": "stdout",
     "output_type": "stream",
     "text": [
      "<class 'pandas.core.frame.DataFrame'>\n",
      "RangeIndex: 1781 entries, 0 to 1780\n",
      "Data columns (total 15 columns):\n",
      " #   Column                     Non-Null Count  Dtype  \n",
      "---  ------                     --------------  -----  \n",
      " 0   URL                        1781 non-null   object \n",
      " 1   URL_LENGTH                 1781 non-null   int64  \n",
      " 2   NUMBER_SPECIAL_CHARACTERS  1781 non-null   int64  \n",
      " 3   CHARSET                    1781 non-null   object \n",
      " 4   SERVER                     1780 non-null   object \n",
      " 5   CONTENT_LENGTH             969 non-null    float64\n",
      " 6   WHOIS_COUNTRY              1781 non-null   object \n",
      " 7   WHOIS_STATEPRO             1781 non-null   object \n",
      " 8   WHOIS_REGDATE              1651 non-null   object \n",
      " 9   WHOIS_UPDATED_DATE         1642 non-null   object \n",
      " 10  DIST_REMOTE_TCP_PORT       1781 non-null   int64  \n",
      " 11  REMOTE_IPS                 1781 non-null   int64  \n",
      " 12  APP_PACKETS                1781 non-null   int64  \n",
      " 13  DNS_QUERY_TIMES            1780 non-null   float64\n",
      " 14  Type                       1781 non-null   int64  \n",
      "dtypes: float64(2), int64(6), object(7)\n",
      "memory usage: 208.8+ KB\n"
     ]
    }
   ],
   "source": [
    "# Your code here\n",
    "websites.info()"
   ]
  },
  {
   "cell_type": "markdown",
   "metadata": {},
   "source": [
    "If you remember in the previous labs, we drop a column if the column contains a high proportion of missing values. After dropping those problematic columns, we drop the rows with missing values.\n",
    "\n",
    "#### In the cells below, handle the missing values from the dataset. Remember to comment the rationale of your decisions."
   ]
  },
  {
   "cell_type": "code",
   "execution_count": 10,
   "metadata": {},
   "outputs": [
    {
     "data": {
      "text/plain": "URL                          None\nURL_LENGTH                   None\nNUMBER_SPECIAL_CHARACTERS    None\nCHARSET                      None\nSERVER                       None\nCONTENT_LENGTH               None\nWHOIS_COUNTRY                None\nWHOIS_STATEPRO               None\nWHOIS_REGDATE                None\nWHOIS_UPDATED_DATE           None\nDIST_REMOTE_TCP_PORT         None\nREMOTE_IPS                   None\nAPP_PACKETS                  None\nDNS_QUERY_TIMES              None\nType                         None\ndtype: object"
     },
     "execution_count": 10,
     "metadata": {},
     "output_type": "execute_result"
    }
   ],
   "source": [
    "# Your code here\n",
    "websites.replace(np.nan, None, inplace=True)"
   ]
  },
  {
   "cell_type": "markdown",
   "metadata": {},
   "source": [
    "#### Again, examine the number of missing values in each column. \n",
    "\n",
    "If all cleaned, proceed. Otherwise, go back and do more cleaning."
   ]
  },
  {
   "cell_type": "code",
   "execution_count": 11,
   "metadata": {},
   "outputs": [
    {
     "name": "stdout",
     "output_type": "stream",
     "text": [
      "<class 'pandas.core.frame.DataFrame'>\n",
      "RangeIndex: 1781 entries, 0 to 1780\n",
      "Data columns (total 15 columns):\n",
      " #   Column                     Non-Null Count  Dtype  \n",
      "---  ------                     --------------  -----  \n",
      " 0   URL                        1781 non-null   object \n",
      " 1   URL_LENGTH                 1781 non-null   int64  \n",
      " 2   NUMBER_SPECIAL_CHARACTERS  1781 non-null   int64  \n",
      " 3   CHARSET                    1781 non-null   object \n",
      " 4   SERVER                     1781 non-null   object \n",
      " 5   CONTENT_LENGTH             1781 non-null   float64\n",
      " 6   WHOIS_COUNTRY              1781 non-null   object \n",
      " 7   WHOIS_STATEPRO             1781 non-null   object \n",
      " 8   WHOIS_REGDATE              1781 non-null   object \n",
      " 9   WHOIS_UPDATED_DATE         1778 non-null   object \n",
      " 10  DIST_REMOTE_TCP_PORT       1781 non-null   int64  \n",
      " 11  REMOTE_IPS                 1781 non-null   int64  \n",
      " 12  APP_PACKETS                1781 non-null   int64  \n",
      " 13  DNS_QUERY_TIMES            1781 non-null   float64\n",
      " 14  Type                       1781 non-null   int64  \n",
      "dtypes: float64(2), int64(6), object(7)\n",
      "memory usage: 208.8+ KB\n"
     ]
    }
   ],
   "source": [
    "# Examine missing values in each column\n",
    "websites.info()"
   ]
  },
  {
   "cell_type": "markdown",
   "metadata": {},
   "source": [
    "# Challenge 4 - Handle `WHOIS_*` Categorical Data"
   ]
  },
  {
   "cell_type": "markdown",
   "metadata": {},
   "source": [
    "There are several categorical columns we need to handle. These columns are:\n",
    "\n",
    "* `URL`\n",
    "* `CHARSET`\n",
    "* `SERVER`\n",
    "* `WHOIS_COUNTRY`\n",
    "* `WHOIS_STATEPRO`\n",
    "* `WHOIS_REGDATE`\n",
    "* `WHOIS_UPDATED_DATE`\n",
    "\n",
    "How to handle string columns is always case by case. Let's start by working on `WHOIS_COUNTRY`. Your steps are:\n",
    "\n",
    "1. List out the unique values of `WHOIS_COUNTRY`.\n",
    "1. Consolidate the country values with consistent country codes. For example, the following values refer to the same country and should use consistent country code:\n",
    "    * `CY` and `Cyprus`\n",
    "    * `US` and `us`\n",
    "    * `SE` and `se`\n",
    "    * `GB`, `United Kingdom`, and `[u'GB'; u'UK']`\n",
    "\n",
    "#### In the cells below, fix the country values as intructed above."
   ]
  },
  {
   "cell_type": "code",
   "execution_count": 12,
   "metadata": {},
   "outputs": [],
   "source": [
    "# Your code here\n",
    "# Handle \"WHOIS_COUNTRY\" col\n",
    "repl_dict = {\n",
    "    \"GB\": [\".*GB.*\", \".*UK.*\"],\n",
    "    \"RU\": [\".*ru.*\"],\n",
    "    \"US\": [\".*us.*\"],\n",
    "    \"SE\": [\".*se.*\"],\n",
    "    \"other\": [\".*None.*\"]\n",
    "}\n",
    "\n",
    "replace_regex(repl_dict, websites, \"WHOIS_COUNTRY\")\n",
    "\n",
    "websites[\"WHOIS_COUNTRY\"]=websites[\"WHOIS_COUNTRY\"].astype('category')"
   ]
  },
  {
   "cell_type": "markdown",
   "metadata": {},
   "source": [
    "Since we have fixed the country values, can we convert this column to ordinal now?\n",
    "\n",
    "Not yet. If you reflect on the previous labs how we handle categorical columns, you probably remember we ended up dropping a lot of those columns because there are too many unique values. Too many unique values in a column is not desirable in machine learning because it makes prediction inaccurate. But there are workarounds under certain conditions. One of the fixable conditions is:\n",
    "\n",
    "#### If a limited number of values account for the majority of data, we can retain these top values and re-label all other rare values.\n",
    "\n",
    "The `WHOIS_COUNTRY` column happens to be this case. You can verify it by print a bar chart of the `value_counts` in the next cell to verify:"
   ]
  },
  {
   "cell_type": "code",
   "execution_count": 13,
   "metadata": {},
   "outputs": [
    {
     "name": "stdout",
     "output_type": "stream",
     "text": [
      "US                1106\n",
      "other              306\n",
      "CA                  84\n",
      "ES                  63\n",
      "AU                  35\n",
      "GB                  34\n",
      "PA                  21\n",
      "JP                  11\n",
      "IN                  10\n",
      "CN                  10\n",
      "CZ                   9\n",
      "FR                   9\n",
      "RU                   8\n",
      "CH                   6\n",
      "NL                   6\n",
      "KR                   5\n",
      "SE                   4\n",
      "AT                   4\n",
      "BS                   4\n",
      "PH                   4\n",
      "HK                   3\n",
      "KY                   3\n",
      "SC                   3\n",
      "BE                   3\n",
      "DE                   3\n",
      "TR                   3\n",
      "SI                   2\n",
      "UY                   2\n",
      "UA                   2\n",
      "KG                   2\n",
      "NO                   2\n",
      "IL                   2\n",
      "BR                   2\n",
      "PK                   1\n",
      "LV                   1\n",
      "LU                   1\n",
      "IT                   1\n",
      "TH                   1\n",
      "IE                   1\n",
      "UG                   1\n",
      "BY                   1\n",
      "United Kingdom       1\n",
      "AE                   1\n",
      "Name: WHOIS_COUNTRY, dtype: int64\n"
     ]
    },
    {
     "data": {
      "text/plain": "<Figure size 720x432 with 1 Axes>",
      "image/png": "[encoded data removed]"
     },
     "metadata": {},
     "output_type": "display_data"
    }
   ],
   "source": [
    "# Your code here\n",
    "print(websites[\"WHOIS_COUNTRY\"].value_counts())\n",
    "\n",
    "(websites[\"WHOIS_COUNTRY\"].value_counts()/len(websites)).plot.bar(color=['b', 'r'],    # plot customer churn rate\n",
    "                                           figsize=(10, 6),\n",
    "                                           title='Whois Country Rate',\n",
    "                                           rot=0,\n",
    "                                           fontsize=12);"
   ]
  },
  {
   "cell_type": "markdown",
   "metadata": {},
   "source": [
    "#### After verifying, now let's keep the top 10 values of the column and re-label other columns with `OTHER`."
   ]
  },
  {
   "cell_type": "code",
   "execution_count": 14,
   "metadata": {
    "scrolled": true
   },
   "outputs": [
    {
     "data": {
      "text/plain": "       URL  URL_LENGTH  NUMBER_SPECIAL_CHARACTERS     CHARSET  \\\n0   M0_109          16                          7  iso-8859-1   \n1  B0_2314          16                          6       UTF-8   \n2   B0_911          16                          6    us-ascii   \n3   B0_113          17                          6  ISO-8859-1   \n4   B0_403          17                          6       UTF-8   \n\n                  SERVER  CONTENT_LENGTH WHOIS_COUNTRY WHOIS_STATEPRO  \\\n0                  nginx           263.0         other           None   \n1          Apache/2.4.10         15087.0         other           None   \n2  Microsoft-HTTPAPI/2.0           324.0         other           None   \n3                  nginx           162.0            US             AK   \n4                   None        124140.0            US             TX   \n\n         WHOIS_REGDATE   WHOIS_UPDATED_DATE  DIST_REMOTE_TCP_PORT  REMOTE_IPS  \\\n0  2015-10-10 18:21:00                  NaT                     0           2   \n1  2015-10-10 18:21:00                  NaT                     7           4   \n2  2015-10-10 18:21:00                  NaT                     0           0   \n3  1997-07-10 04:00:00  2013-12-09 00:45:00                    22           3   \n4  1996-12-05 00:00:00  2017-11-04 00:00:00                     2           5   \n\n   APP_PACKETS  DNS_QUERY_TIMES  Type  \n0            9              2.0     1  \n1           17              0.0     0  \n2            0              0.0     0  \n3           39              8.0     0  \n4           61              4.0     0  ",
      "text/html": "<div>\n<style scoped>\n    .dataframe tbody tr th:only-of-type {\n        vertical-align: middle;\n    }\n\n    .dataframe tbody tr th {\n        vertical-align: top;\n    }\n\n    .dataframe thead th {\n        text-align: right;\n    }\n</style>\n<table border=\"1\" class=\"dataframe\">\n  <thead>\n    <tr style=\"text-align: right;\">\n      <th></th>\n      <th>URL</th>\n      <th>URL_LENGTH</th>\n      <th>NUMBER_SPECIAL_CHARACTERS</th>\n      <th>CHARSET</th>\n      <th>SERVER</th>\n      <th>CONTENT_LENGTH</th>\n      <th>WHOIS_COUNTRY</th>\n      <th>WHOIS_STATEPRO</th>\n      <th>WHOIS_REGDATE</th>\n      <th>WHOIS_UPDATED_DATE</th>\n      <th>DIST_REMOTE_TCP_PORT</th>\n      <th>REMOTE_IPS</th>\n      <th>APP_PACKETS</th>\n      <th>DNS_QUERY_TIMES</th>\n      <th>Type</th>\n    </tr>\n  </thead>\n  <tbody>\n    <tr>\n      <th>0</th>\n      <td>M0_109</td>\n      <td>16</td>\n      <td>7</td>\n      <td>iso-8859-1</td>\n      <td>nginx</td>\n      <td>263.0</td>\n      <td>other</td>\n      <td>None</td>\n      <td>2015-10-10 18:21:00</td>\n      <td>NaT</td>\n      <td>0</td>\n      <td>2</td>\n      <td>9</td>\n      <td>2.0</td>\n      <td>1</td>\n    </tr>\n    <tr>\n      <th>1</th>\n      <td>B0_2314</td>\n      <td>16</td>\n      <td>6</td>\n      <td>UTF-8</td>\n      <td>Apache/2.4.10</td>\n      <td>15087.0</td>\n      <td>other</td>\n      <td>None</td>\n      <td>2015-10-10 18:21:00</td>\n      <td>NaT</td>\n      <td>7</td>\n      <td>4</td>\n      <td>17</td>\n      <td>0.0</td>\n      <td>0</td>\n    </tr>\n    <tr>\n      <th>2</th>\n      <td>B0_911</td>\n      <td>16</td>\n      <td>6</td>\n      <td>us-ascii</td>\n      <td>Microsoft-HTTPAPI/2.0</td>\n      <td>324.0</td>\n      <td>other</td>\n      <td>None</td>\n      <td>2015-10-10 18:21:00</td>\n      <td>NaT</td>\n      <td>0</td>\n      <td>0</td>\n      <td>0</td>\n      <td>0.0</td>\n      <td>0</td>\n    </tr>\n    <tr>\n      <th>3</th>\n      <td>B0_113</td>\n      <td>17</td>\n      <td>6</td>\n      <td>ISO-8859-1</td>\n      <td>nginx</td>\n      <td>162.0</td>\n      <td>US</td>\n      <td>AK</td>\n      <td>1997-07-10 04:00:00</td>\n      <td>2013-12-09 00:45:00</td>\n      <td>22</td>\n      <td>3</td>\n      <td>39</td>\n      <td>8.0</td>\n      <td>0</td>\n    </tr>\n    <tr>\n      <th>4</th>\n      <td>B0_403</td>\n      <td>17</td>\n      <td>6</td>\n      <td>UTF-8</td>\n      <td>None</td>\n      <td>124140.0</td>\n      <td>US</td>\n      <td>TX</td>\n      <td>1996-12-05 00:00:00</td>\n      <td>2017-11-04 00:00:00</td>\n      <td>2</td>\n      <td>5</td>\n      <td>61</td>\n      <td>4.0</td>\n      <td>0</td>\n    </tr>\n  </tbody>\n</table>\n</div>"
     },
     "execution_count": 14,
     "metadata": {},
     "output_type": "execute_result"
    }
   ],
   "source": [
    "# Your code here\n",
    "ten = websites['WHOIS_COUNTRY'].value_counts().head(10).index\n",
    "websites['WHOIS_COUNTRY'] = websites['WHOIS_COUNTRY'].apply(lambda x: 'other' if x not in ten else x)\n",
    "websites.head()"
   ]
  },
  {
   "cell_type": "markdown",
   "metadata": {},
   "source": [
    "Now since `WHOIS_COUNTRY` has been re-labelled, we don't need `WHOIS_STATEPRO` any more because the values of the states or provinces may not be relevant any more. We'll drop this column.\n",
    "\n",
    "In addition, we will also drop `WHOIS_REGDATE` and `WHOIS_UPDATED_DATE`. These are the registration and update dates of the website domains. Not of our concerns.\n",
    "\n",
    "#### In the next cell, drop `['WHOIS_STATEPRO', 'WHOIS_REGDATE', 'WHOIS_UPDATED_DATE']`."
   ]
  },
  {
   "cell_type": "code",
   "execution_count": 15,
   "metadata": {},
   "outputs": [
    {
     "data": {
      "text/plain": "       URL  URL_LENGTH  NUMBER_SPECIAL_CHARACTERS     CHARSET  \\\n0   M0_109          16                          7  iso-8859-1   \n1  B0_2314          16                          6       UTF-8   \n2   B0_911          16                          6    us-ascii   \n3   B0_113          17                          6  ISO-8859-1   \n4   B0_403          17                          6       UTF-8   \n\n                  SERVER  CONTENT_LENGTH WHOIS_COUNTRY  DIST_REMOTE_TCP_PORT  \\\n0                  nginx           263.0         other                     0   \n1          Apache/2.4.10         15087.0         other                     7   \n2  Microsoft-HTTPAPI/2.0           324.0         other                     0   \n3                  nginx           162.0            US                    22   \n4                   None        124140.0            US                     2   \n\n   REMOTE_IPS  APP_PACKETS  DNS_QUERY_TIMES  Type  \n0           2            9              2.0     1  \n1           4           17              0.0     0  \n2           0            0              0.0     0  \n3           3           39              8.0     0  \n4           5           61              4.0     0  ",
      "text/html": "<div>\n<style scoped>\n    .dataframe tbody tr th:only-of-type {\n        vertical-align: middle;\n    }\n\n    .dataframe tbody tr th {\n        vertical-align: top;\n    }\n\n    .dataframe thead th {\n        text-align: right;\n    }\n</style>\n<table border=\"1\" class=\"dataframe\">\n  <thead>\n    <tr style=\"text-align: right;\">\n      <th></th>\n      <th>URL</th>\n      <th>URL_LENGTH</th>\n      <th>NUMBER_SPECIAL_CHARACTERS</th>\n      <th>CHARSET</th>\n      <th>SERVER</th>\n      <th>CONTENT_LENGTH</th>\n      <th>WHOIS_COUNTRY</th>\n      <th>DIST_REMOTE_TCP_PORT</th>\n      <th>REMOTE_IPS</th>\n      <th>APP_PACKETS</th>\n      <th>DNS_QUERY_TIMES</th>\n      <th>Type</th>\n    </tr>\n  </thead>\n  <tbody>\n    <tr>\n      <th>0</th>\n      <td>M0_109</td>\n      <td>16</td>\n      <td>7</td>\n      <td>iso-8859-1</td>\n      <td>nginx</td>\n      <td>263.0</td>\n      <td>other</td>\n      <td>0</td>\n      <td>2</td>\n      <td>9</td>\n      <td>2.0</td>\n      <td>1</td>\n    </tr>\n    <tr>\n      <th>1</th>\n      <td>B0_2314</td>\n      <td>16</td>\n      <td>6</td>\n      <td>UTF-8</td>\n      <td>Apache/2.4.10</td>\n      <td>15087.0</td>\n      <td>other</td>\n      <td>7</td>\n      <td>4</td>\n      <td>17</td>\n      <td>0.0</td>\n      <td>0</td>\n    </tr>\n    <tr>\n      <th>2</th>\n      <td>B0_911</td>\n      <td>16</td>\n      <td>6</td>\n      <td>us-ascii</td>\n      <td>Microsoft-HTTPAPI/2.0</td>\n      <td>324.0</td>\n      <td>other</td>\n      <td>0</td>\n      <td>0</td>\n      <td>0</td>\n      <td>0.0</td>\n      <td>0</td>\n    </tr>\n    <tr>\n      <th>3</th>\n      <td>B0_113</td>\n      <td>17</td>\n      <td>6</td>\n      <td>ISO-8859-1</td>\n      <td>nginx</td>\n      <td>162.0</td>\n      <td>US</td>\n      <td>22</td>\n      <td>3</td>\n      <td>39</td>\n      <td>8.0</td>\n      <td>0</td>\n    </tr>\n    <tr>\n      <th>4</th>\n      <td>B0_403</td>\n      <td>17</td>\n      <td>6</td>\n      <td>UTF-8</td>\n      <td>None</td>\n      <td>124140.0</td>\n      <td>US</td>\n      <td>2</td>\n      <td>5</td>\n      <td>61</td>\n      <td>4.0</td>\n      <td>0</td>\n    </tr>\n  </tbody>\n</table>\n</div>"
     },
     "execution_count": 15,
     "metadata": {},
     "output_type": "execute_result"
    }
   ],
   "source": [
    "# Your code here\n",
    "websites.drop([\"WHOIS_STATEPRO\", \"WHOIS_REGDATE\", \"WHOIS_UPDATED_DATE\"], axis=1, inplace=True)\n",
    "websites.head()"
   ]
  },
  {
   "cell_type": "markdown",
   "metadata": {},
   "source": [
    "# Challenge 5 - Handle Remaining Categorical Data & Convert to Ordinal\n",
    "\n",
    "Now print the `dtypes` of the data again. Besides `WHOIS_COUNTRY` which we already fixed, there should be 3 categorical columns left: `URL`, `CHARSET`, and `SERVER`."
   ]
  },
  {
   "cell_type": "code",
   "execution_count": 16,
   "metadata": {},
   "outputs": [
    {
     "data": {
      "text/plain": "URL                           object\nURL_LENGTH                     int64\nNUMBER_SPECIAL_CHARACTERS      int64\nCHARSET                       object\nSERVER                        object\nCONTENT_LENGTH               float64\nWHOIS_COUNTRY                 object\nDIST_REMOTE_TCP_PORT           int64\nREMOTE_IPS                     int64\nAPP_PACKETS                    int64\nDNS_QUERY_TIMES              float64\nType                           int64\ndtype: object"
     },
     "execution_count": 16,
     "metadata": {},
     "output_type": "execute_result"
    }
   ],
   "source": [
    "# Your code here\n",
    "websites.dtypes"
   ]
  },
  {
   "cell_type": "markdown",
   "metadata": {},
   "source": [
    "#### `URL` is easy. We'll simply drop it because it has too many unique values that there's no way for us to consolidate."
   ]
  },
  {
   "cell_type": "code",
   "execution_count": 17,
   "metadata": {},
   "outputs": [],
   "source": [
    "# Your code here\n",
    "websites.drop([\"URL\"], axis=1, inplace=True)"
   ]
  },
  {
   "cell_type": "markdown",
   "metadata": {},
   "source": [
    "#### Print the unique value counts of `CHARSET`. You see there are only a few unique values. So we can keep it as it is."
   ]
  },
  {
   "cell_type": "code",
   "execution_count": 18,
   "metadata": {},
   "outputs": [],
   "source": [
    "# Your code here\n",
    "# Handle \"CHARSET\" col\n",
    "repl_dict = {\n",
    "    \"iso-8859-1\": [\".*8859.*\"],\n",
    "    \"utf-8\": [\".*utf-8.*\"]\n",
    "}\n",
    "\n",
    "replace_regex(repl_dict, websites, \"CHARSET\")\n",
    "\n",
    "websites[\"CHARSET\"]=websites[\"CHARSET\"].astype('category')"
   ]
  },
  {
   "cell_type": "markdown",
   "metadata": {},
   "source": [
    "`SERVER` is a little more complicated. Print its unique values and think about how you can consolidate those values.\n",
    "\n",
    "#### Before you think of your own solution, don't read the instructions that come next."
   ]
  },
  {
   "cell_type": "code",
   "execution_count": 19,
   "metadata": {},
   "outputs": [
    {
     "data": {
      "text/plain": "   URL_LENGTH  NUMBER_SPECIAL_CHARACTERS     CHARSET     SERVER  \\\n0          16                          7  iso-8859-1      nginx   \n1          16                          6       utf-8     Apache   \n2          16                          6    us-ascii  Microsoft   \n3          17                          6  iso-8859-1      nginx   \n4          17                          6       utf-8      other   \n\n   CONTENT_LENGTH WHOIS_COUNTRY  DIST_REMOTE_TCP_PORT  REMOTE_IPS  \\\n0           263.0         other                     0           2   \n1         15087.0         other                     7           4   \n2           324.0         other                     0           0   \n3           162.0            US                    22           3   \n4        124140.0            US                     2           5   \n\n   APP_PACKETS  DNS_QUERY_TIMES  Type  \n0            9              2.0     1  \n1           17              0.0     0  \n2            0              0.0     0  \n3           39              8.0     0  \n4           61              4.0     0  ",
      "text/html": "<div>\n<style scoped>\n    .dataframe tbody tr th:only-of-type {\n        vertical-align: middle;\n    }\n\n    .dataframe tbody tr th {\n        vertical-align: top;\n    }\n\n    .dataframe thead th {\n        text-align: right;\n    }\n</style>\n<table border=\"1\" class=\"dataframe\">\n  <thead>\n    <tr style=\"text-align: right;\">\n      <th></th>\n      <th>URL_LENGTH</th>\n      <th>NUMBER_SPECIAL_CHARACTERS</th>\n      <th>CHARSET</th>\n      <th>SERVER</th>\n      <th>CONTENT_LENGTH</th>\n      <th>WHOIS_COUNTRY</th>\n      <th>DIST_REMOTE_TCP_PORT</th>\n      <th>REMOTE_IPS</th>\n      <th>APP_PACKETS</th>\n      <th>DNS_QUERY_TIMES</th>\n      <th>Type</th>\n    </tr>\n  </thead>\n  <tbody>\n    <tr>\n      <th>0</th>\n      <td>16</td>\n      <td>7</td>\n      <td>iso-8859-1</td>\n      <td>nginx</td>\n      <td>263.0</td>\n      <td>other</td>\n      <td>0</td>\n      <td>2</td>\n      <td>9</td>\n      <td>2.0</td>\n      <td>1</td>\n    </tr>\n    <tr>\n      <th>1</th>\n      <td>16</td>\n      <td>6</td>\n      <td>utf-8</td>\n      <td>Apache</td>\n      <td>15087.0</td>\n      <td>other</td>\n      <td>7</td>\n      <td>4</td>\n      <td>17</td>\n      <td>0.0</td>\n      <td>0</td>\n    </tr>\n    <tr>\n      <th>2</th>\n      <td>16</td>\n      <td>6</td>\n      <td>us-ascii</td>\n      <td>Microsoft</td>\n      <td>324.0</td>\n      <td>other</td>\n      <td>0</td>\n      <td>0</td>\n      <td>0</td>\n      <td>0.0</td>\n      <td>0</td>\n    </tr>\n    <tr>\n      <th>3</th>\n      <td>17</td>\n      <td>6</td>\n      <td>iso-8859-1</td>\n      <td>nginx</td>\n      <td>162.0</td>\n      <td>US</td>\n      <td>22</td>\n      <td>3</td>\n      <td>39</td>\n      <td>8.0</td>\n      <td>0</td>\n    </tr>\n    <tr>\n      <th>4</th>\n      <td>17</td>\n      <td>6</td>\n      <td>utf-8</td>\n      <td>other</td>\n      <td>124140.0</td>\n      <td>US</td>\n      <td>2</td>\n      <td>5</td>\n      <td>61</td>\n      <td>4.0</td>\n      <td>0</td>\n    </tr>\n  </tbody>\n</table>\n</div>"
     },
     "execution_count": 19,
     "metadata": {},
     "output_type": "execute_result"
    }
   ],
   "source": [
    "# Your code here\n",
    "# Handle \"SERVER\" col\n",
    "repl_dict = {\n",
    "    \"Apache\": [\".*apache.*\"],\n",
    "    \"Microsoft\": [\".*microsoft.*\"],\n",
    "    \"nginx\": [\".*nginx.*\"],\n",
    "    \"proxy\": [\".*proxy.*\"],\n",
    "    \"Gateway\": [\".*gateway.*\"],\n",
    "    \"openresty\": [\".*openresty.*\"],\n",
    "    \"Oracle\": [\".*oracle.*\"],\n",
    "    \"wmnet\": [\".*wmnet.*\"],\n",
    "    \"sun\": [\".*sun.*\"],\n",
    "    \"Youtube\": [\".*youtube.*\"],\n",
    "    \"Ebay\": [\".*ebay.*\"],\n",
    "    \"Amazon\": [\".*amazon.*\"],\n",
    "    \"ATS\": [\".*ats.*\"],\n",
    "    \"Pepyaka\": [\".*pepyaka.*\"],\n",
    "    \"CherryPy\": [\".*cherryPy.*\"],\n",
    "    \"Heptu\": [\".*heptu.*\"],\n",
    "    \"Jetty\": [\".*jetty.*\"],\n",
    "    \"DPS\": [\".*dps.*\"],\n",
    "    \"Squeegit\": [\".*squeegit.*\"],\n",
    "    \"Virtuoso\": [\".*virtuoso.*\"],\n",
    "    \"Resin\": [\".*resin.*\"],\n",
    "    \"barista\": [\".*barista.*\"],\n",
    "    \"ECD\": [\".*ECD.*\"],\n",
    "    \"gunicorn\": [\".*gunicorn.*\"],\n",
    "    \"Zope\": [\".*zope.*\"],\n",
    "    \"PWS\": [\".*pws.*\"],\n",
    "    \"squid\": [\".*squid.*\"],\n",
    "    \"marrakesh\": [\".*marrakesh.*\"],\n",
    "    \"DMS\": [\".*dms.*\"],\n",
    "    \"Roxen\": [\".*roxen.*\"],\n",
    "    \"IdeaWebServer\": [\".*ideaWebServer.*\"],\n",
    "    \"lighttpd\": [\".*lighttpd.*\"],\n",
    "    \"Boston\": [\".*Boston.*\"],\n",
    "    \"other\": [\".*XXXXX.*\", \".com\", \".*[0-9]{3}.*\", \"None\"]\n",
    "}\n",
    "\n",
    "replace_regex(repl_dict, websites, \"SERVER\")\n",
    "websites.head()"
   ]
  },
  {
   "cell_type": "markdown",
   "metadata": {},
   "source": [
    "![Think Hard](../think-hard.jpg)"
   ]
  },
  {
   "cell_type": "markdown",
   "metadata": {},
   "source": [
    "Although there are so many unique values in the `SERVER` column, there are actually only 3 main server types: `Microsoft`, `Apache`, and `nginx`. Just check if each `SERVER` value contains any of those server types and re-label them. For `SERVER` values that don't contain any of those substrings, label with `Other`.\n",
    "\n",
    "At the end, your `SERVER` column should only contain 4 unique values: `Microsoft`, `Apache`, `nginx`, and `Other`."
   ]
  },
  {
   "cell_type": "code",
   "execution_count": 20,
   "metadata": {},
   "outputs": [
    {
     "data": {
      "text/plain": "   URL_LENGTH  NUMBER_SPECIAL_CHARACTERS     CHARSET     SERVER  \\\n0          16                          7  iso-8859-1      nginx   \n1          16                          6       utf-8     Apache   \n2          16                          6    us-ascii  Microsoft   \n3          17                          6  iso-8859-1      nginx   \n4          17                          6       utf-8      other   \n\n   CONTENT_LENGTH WHOIS_COUNTRY  DIST_REMOTE_TCP_PORT  REMOTE_IPS  \\\n0           263.0         other                     0           2   \n1         15087.0         other                     7           4   \n2           324.0         other                     0           0   \n3           162.0            US                    22           3   \n4        124140.0            US                     2           5   \n\n   APP_PACKETS  DNS_QUERY_TIMES  Type  \n0            9              2.0     1  \n1           17              0.0     0  \n2            0              0.0     0  \n3           39              8.0     0  \n4           61              4.0     0  ",
      "text/html": "<div>\n<style scoped>\n    .dataframe tbody tr th:only-of-type {\n        vertical-align: middle;\n    }\n\n    .dataframe tbody tr th {\n        vertical-align: top;\n    }\n\n    .dataframe thead th {\n        text-align: right;\n    }\n</style>\n<table border=\"1\" class=\"dataframe\">\n  <thead>\n    <tr style=\"text-align: right;\">\n      <th></th>\n      <th>URL_LENGTH</th>\n      <th>NUMBER_SPECIAL_CHARACTERS</th>\n      <th>CHARSET</th>\n      <th>SERVER</th>\n      <th>CONTENT_LENGTH</th>\n      <th>WHOIS_COUNTRY</th>\n      <th>DIST_REMOTE_TCP_PORT</th>\n      <th>REMOTE_IPS</th>\n      <th>APP_PACKETS</th>\n      <th>DNS_QUERY_TIMES</th>\n      <th>Type</th>\n    </tr>\n  </thead>\n  <tbody>\n    <tr>\n      <th>0</th>\n      <td>16</td>\n      <td>7</td>\n      <td>iso-8859-1</td>\n      <td>nginx</td>\n      <td>263.0</td>\n      <td>other</td>\n      <td>0</td>\n      <td>2</td>\n      <td>9</td>\n      <td>2.0</td>\n      <td>1</td>\n    </tr>\n    <tr>\n      <th>1</th>\n      <td>16</td>\n      <td>6</td>\n      <td>utf-8</td>\n      <td>Apache</td>\n      <td>15087.0</td>\n      <td>other</td>\n      <td>7</td>\n      <td>4</td>\n      <td>17</td>\n      <td>0.0</td>\n      <td>0</td>\n    </tr>\n    <tr>\n      <th>2</th>\n      <td>16</td>\n      <td>6</td>\n      <td>us-ascii</td>\n      <td>Microsoft</td>\n      <td>324.0</td>\n      <td>other</td>\n      <td>0</td>\n      <td>0</td>\n      <td>0</td>\n      <td>0.0</td>\n      <td>0</td>\n    </tr>\n    <tr>\n      <th>3</th>\n      <td>17</td>\n      <td>6</td>\n      <td>iso-8859-1</td>\n      <td>nginx</td>\n      <td>162.0</td>\n      <td>US</td>\n      <td>22</td>\n      <td>3</td>\n      <td>39</td>\n      <td>8.0</td>\n      <td>0</td>\n    </tr>\n    <tr>\n      <th>4</th>\n      <td>17</td>\n      <td>6</td>\n      <td>utf-8</td>\n      <td>other</td>\n      <td>124140.0</td>\n      <td>US</td>\n      <td>2</td>\n      <td>5</td>\n      <td>61</td>\n      <td>4.0</td>\n      <td>0</td>\n    </tr>\n  </tbody>\n</table>\n</div>"
     },
     "execution_count": 20,
     "metadata": {},
     "output_type": "execute_result"
    }
   ],
   "source": [
    "# Your code here\n",
    "three = websites['SERVER'].value_counts().head(4).index\n",
    "websites['SERVER'] = websites['SERVER'].apply(lambda x: 'other' if x not in three else x)\n",
    "websites.head()"
   ]
  },
  {
   "cell_type": "code",
   "execution_count": 21,
   "metadata": {
    "scrolled": false
   },
   "outputs": [
    {
     "name": "stdout",
     "output_type": "stream",
     "text": [
      "Apache       643\n",
      "other        504\n",
      "nginx        436\n",
      "Microsoft    198\n",
      "Name: SERVER, dtype: int64\n"
     ]
    },
    {
     "data": {
      "text/plain": "<Figure size 720x432 with 1 Axes>",
      "image/png": "[encoded data removed]"
     },
     "metadata": {},
     "output_type": "display_data"
    }
   ],
   "source": [
    "# Count `SERVER` value counts here\n",
    "print(websites[\"SERVER\"].value_counts())\n",
    "\n",
    "(websites[\"SERVER\"].value_counts()/len(websites)).plot.bar(color=['b', 'r'],    # plot customer churn rate\n",
    "                                                                  figsize=(10, 6),\n",
    "                                                                  title='Whois Country Rate',\n",
    "                                                                  rot=0,\n",
    "                                                                  fontsize=12);"
   ]
  },
  {
   "cell_type": "markdown",
   "metadata": {},
   "source": [
    "OK, all our categorical data are fixed now. **Let's convert them to ordinal data using Pandas' `get_dummies` function ([documentation](https://pandas.pydata.org/pandas-docs/stable/generated/pandas.get_dummies.html)).** Make sure you drop the categorical columns by passing `drop_first=True` to `get_dummies` as we don't need them any more. **Also, assign the data with dummy values to a new variable `website_dummy`.**"
   ]
  },
  {
   "cell_type": "code",
   "execution_count": 22,
   "metadata": {},
   "outputs": [],
   "source": [
    "# Your code here\n",
    "website_dummy = pd.get_dummies(data = websites, columns = ['WHOIS_COUNTRY', 'SERVER', 'CHARSET'], drop_first = True)"
   ]
  },
  {
   "cell_type": "markdown",
   "metadata": {},
   "source": [
    "Now, inspect `website_dummy` to make sure the data and types are intended - there shouldn't be any categorical columns at this point."
   ]
  },
  {
   "cell_type": "code",
   "execution_count": 23,
   "metadata": {},
   "outputs": [
    {
     "data": {
      "text/plain": "   URL_LENGTH  NUMBER_SPECIAL_CHARACTERS  CONTENT_LENGTH  \\\n0          16                          7           263.0   \n1          16                          6         15087.0   \n2          16                          6           324.0   \n3          17                          6           162.0   \n4          17                          6        124140.0   \n5          18                          7        124140.0   \n6          18                          6           345.0   \n7          19                          6           324.0   \n8          20                          5           324.0   \n9          20                          5           324.0   \n\n   DIST_REMOTE_TCP_PORT  REMOTE_IPS  APP_PACKETS  DNS_QUERY_TIMES  Type  \\\n0                     0           2            9              2.0     1   \n1                     7           4           17              0.0     0   \n2                     0           0            0              0.0     0   \n3                    22           3           39              8.0     0   \n4                     2           5           61              4.0     0   \n5                     6           9           11              0.0     0   \n6                     0           3           14              2.0     0   \n7                     0           0            0              0.0     0   \n8                     0           0            2              2.0     1   \n9                     0           0            2              2.0     1   \n\n   WHOIS_COUNTRY_CA  WHOIS_COUNTRY_CN  ...  WHOIS_COUNTRY_US  \\\n0                 0                 0  ...                 0   \n1                 0                 0  ...                 0   \n2                 0                 0  ...                 0   \n3                 0                 0  ...                 1   \n4                 0                 0  ...                 1   \n5                 0                 0  ...                 0   \n6                 0                 0  ...                 1   \n7                 0                 0  ...                 1   \n8                 0                 0  ...                 0   \n9                 0                 0  ...                 0   \n\n   WHOIS_COUNTRY_other  SERVER_Microsoft  SERVER_nginx  SERVER_other  \\\n0                    1                 0             1             0   \n1                    1                 0             0             0   \n2                    1                 1             0             0   \n3                    0                 0             1             0   \n4                    0                 0             0             1   \n5                    1                 0             1             0   \n6                    0                 0             0             0   \n7                    0                 1             0             0   \n8                    1                 0             1             0   \n9                    1                 0             1             0   \n\n   CHARSET_iso-8859-1  CHARSET_us-ascii  CHARSET_utf-8  CHARSET_windows-1251  \\\n0                   1                 0              0                     0   \n1                   0                 0              1                     0   \n2                   0                 1              0                     0   \n3                   1                 0              0                     0   \n4                   0                 0              1                     0   \n5                   0                 0              1                     0   \n6                   1                 0              0                     0   \n7                   0                 1              0                     0   \n8                   0                 0              1                     0   \n9                   0                 0              1                     0   \n\n   CHARSET_windows-1252  \n0                     0  \n1                     0  \n2                     0  \n3                     0  \n4                     0  \n5                     0  \n6                     0  \n7                     0  \n8                     0  \n9                     0  \n\n[10 rows x 25 columns]",
      "text/html": "<div>\n<style scoped>\n    .dataframe tbody tr th:only-of-type {\n        vertical-align: middle;\n    }\n\n    .dataframe tbody tr th {\n        vertical-align: top;\n    }\n\n    .dataframe thead th {\n        text-align: right;\n    }\n</style>\n<table border=\"1\" class=\"dataframe\">\n  <thead>\n    <tr style=\"text-align: right;\">\n      <th></th>\n      <th>URL_LENGTH</th>\n      <th>NUMBER_SPECIAL_CHARACTERS</th>\n      <th>CONTENT_LENGTH</th>\n      <th>DIST_REMOTE_TCP_PORT</th>\n      <th>REMOTE_IPS</th>\n      <th>APP_PACKETS</th>\n      <th>DNS_QUERY_TIMES</th>\n      <th>Type</th>\n      <th>WHOIS_COUNTRY_CA</th>\n      <th>WHOIS_COUNTRY_CN</th>\n      <th>...</th>\n      <th>WHOIS_COUNTRY_US</th>\n      <th>WHOIS_COUNTRY_other</th>\n      <th>SERVER_Microsoft</th>\n      <th>SERVER_nginx</th>\n      <th>SERVER_other</th>\n      <th>CHARSET_iso-8859-1</th>\n      <th>CHARSET_us-ascii</th>\n      <th>CHARSET_utf-8</th>\n      <th>CHARSET_windows-1251</th>\n      <th>CHARSET_windows-1252</th>\n    </tr>\n  </thead>\n  <tbody>\n    <tr>\n      <th>0</th>\n      <td>16</td>\n      <td>7</td>\n      <td>263.0</td>\n      <td>0</td>\n      <td>2</td>\n      <td>9</td>\n      <td>2.0</td>\n      <td>1</td>\n      <td>0</td>\n      <td>0</td>\n      <td>...</td>\n      <td>0</td>\n      <td>1</td>\n      <td>0</td>\n      <td>1</td>\n      <td>0</td>\n      <td>1</td>\n      <td>0</td>\n      <td>0</td>\n      <td>0</td>\n      <td>0</td>\n    </tr>\n    <tr>\n      <th>1</th>\n      <td>16</td>\n      <td>6</td>\n      <td>15087.0</td>\n      <td>7</td>\n      <td>4</td>\n      <td>17</td>\n      <td>0.0</td>\n      <td>0</td>\n      <td>0</td>\n      <td>0</td>\n      <td>...</td>\n      <td>0</td>\n      <td>1</td>\n      <td>0</td>\n      <td>0</td>\n      <td>0</td>\n      <td>0</td>\n      <td>0</td>\n      <td>1</td>\n      <td>0</td>\n      <td>0</td>\n    </tr>\n    <tr>\n      <th>2</th>\n      <td>16</td>\n      <td>6</td>\n      <td>324.0</td>\n      <td>0</td>\n      <td>0</td>\n      <td>0</td>\n      <td>0.0</td>\n      <td>0</td>\n      <td>0</td>\n      <td>0</td>\n      <td>...</td>\n      <td>0</td>\n      <td>1</td>\n      <td>1</td>\n      <td>0</td>\n      <td>0</td>\n      <td>0</td>\n      <td>1</td>\n      <td>0</td>\n      <td>0</td>\n      <td>0</td>\n    </tr>\n    <tr>\n      <th>3</th>\n      <td>17</td>\n      <td>6</td>\n      <td>162.0</td>\n      <td>22</td>\n      <td>3</td>\n      <td>39</td>\n      <td>8.0</td>\n      <td>0</td>\n      <td>0</td>\n      <td>0</td>\n      <td>...</td>\n      <td>1</td>\n      <td>0</td>\n      <td>0</td>\n      <td>1</td>\n      <td>0</td>\n      <td>1</td>\n      <td>0</td>\n      <td>0</td>\n      <td>0</td>\n      <td>0</td>\n    </tr>\n    <tr>\n      <th>4</th>\n      <td>17</td>\n      <td>6</td>\n      <td>124140.0</td>\n      <td>2</td>\n      <td>5</td>\n      <td>61</td>\n      <td>4.0</td>\n      <td>0</td>\n      <td>0</td>\n      <td>0</td>\n      <td>...</td>\n      <td>1</td>\n      <td>0</td>\n      <td>0</td>\n      <td>0</td>\n      <td>1</td>\n      <td>0</td>\n      <td>0</td>\n      <td>1</td>\n      <td>0</td>\n      <td>0</td>\n    </tr>\n    <tr>\n      <th>5</th>\n      <td>18</td>\n      <td>7</td>\n      <td>124140.0</td>\n      <td>6</td>\n      <td>9</td>\n      <td>11</td>\n      <td>0.0</td>\n      <td>0</td>\n      <td>0</td>\n      <td>0</td>\n      <td>...</td>\n      <td>0</td>\n      <td>1</td>\n      <td>0</td>\n      <td>1</td>\n      <td>0</td>\n      <td>0</td>\n      <td>0</td>\n      <td>1</td>\n      <td>0</td>\n      <td>0</td>\n    </tr>\n    <tr>\n      <th>6</th>\n      <td>18</td>\n      <td>6</td>\n      <td>345.0</td>\n      <td>0</td>\n      <td>3</td>\n      <td>14</td>\n      <td>2.0</td>\n      <td>0</td>\n      <td>0</td>\n      <td>0</td>\n      <td>...</td>\n      <td>1</td>\n      <td>0</td>\n      <td>0</td>\n      <td>0</td>\n      <td>0</td>\n      <td>1</td>\n      <td>0</td>\n      <td>0</td>\n      <td>0</td>\n      <td>0</td>\n    </tr>\n    <tr>\n      <th>7</th>\n      <td>19</td>\n      <td>6</td>\n      <td>324.0</td>\n      <td>0</td>\n      <td>0</td>\n      <td>0</td>\n      <td>0.0</td>\n      <td>0</td>\n      <td>0</td>\n      <td>0</td>\n      <td>...</td>\n      <td>1</td>\n      <td>0</td>\n      <td>1</td>\n      <td>0</td>\n      <td>0</td>\n      <td>0</td>\n      <td>1</td>\n      <td>0</td>\n      <td>0</td>\n      <td>0</td>\n    </tr>\n    <tr>\n      <th>8</th>\n      <td>20</td>\n      <td>5</td>\n      <td>324.0</td>\n      <td>0</td>\n      <td>0</td>\n      <td>2</td>\n      <td>2.0</td>\n      <td>1</td>\n      <td>0</td>\n      <td>0</td>\n      <td>...</td>\n      <td>0</td>\n      <td>1</td>\n      <td>0</td>\n      <td>1</td>\n      <td>0</td>\n      <td>0</td>\n      <td>0</td>\n      <td>1</td>\n      <td>0</td>\n      <td>0</td>\n    </tr>\n    <tr>\n      <th>9</th>\n      <td>20</td>\n      <td>5</td>\n      <td>324.0</td>\n      <td>0</td>\n      <td>0</td>\n      <td>2</td>\n      <td>2.0</td>\n      <td>1</td>\n      <td>0</td>\n      <td>0</td>\n      <td>...</td>\n      <td>0</td>\n      <td>1</td>\n      <td>0</td>\n      <td>1</td>\n      <td>0</td>\n      <td>0</td>\n      <td>0</td>\n      <td>1</td>\n      <td>0</td>\n      <td>0</td>\n    </tr>\n  </tbody>\n</table>\n<p>10 rows × 25 columns</p>\n</div>"
     },
     "execution_count": 23,
     "metadata": {},
     "output_type": "execute_result"
    }
   ],
   "source": [
    "# Your code here\n",
    "website_dummy.head(10)"
   ]
  },
  {
   "cell_type": "markdown",
   "metadata": {},
   "source": [
    "# Challenge 6 - Modeling, Prediction, and Evaluation\n",
    "\n",
    "We'll start off this section by splitting the data to train and test. **Name your 4 variables `X_train`, `X_test`, `y_train`, and `y_test`. Select 80% of the data for training and 20% for testing.**"
   ]
  },
  {
   "cell_type": "code",
   "execution_count": 24,
   "metadata": {},
   "outputs": [],
   "source": [
    "from sklearn.model_selection import train_test_split\n",
    "\n",
    "# Your code here:\n",
    "X = website_dummy.drop(columns = ['Type'])\n",
    "y = website_dummy['Type']\n",
    "X_train, X_test, y_train, y_test = train_test_split(X, y, test_size=0.2, train_size=0.8, random_state=23)"
   ]
  },
  {
   "cell_type": "markdown",
   "metadata": {},
   "source": [
    "#### In this lab, we will try two different models and compare our results.\n",
    "\n",
    "The first model we will use in this lab is logistic regression. We have previously learned about logistic regression as a classification algorithm. In the cell below, load `LogisticRegression` from scikit-learn and initialize the model."
   ]
  },
  {
   "cell_type": "code",
   "execution_count": 25,
   "metadata": {},
   "outputs": [],
   "source": [
    "# Your code here:\n",
    "from sklearn.linear_model import LogisticRegression\n",
    "from sklearn.preprocessing import StandardScaler, LabelEncoder\n",
    "\n",
    "logreg = LogisticRegression(max_iter=1000)\n"
   ]
  },
  {
   "cell_type": "markdown",
   "metadata": {},
   "source": [
    "Next, fit the model to our training data. We have already separated our data into 4 parts. Use those in your model."
   ]
  },
  {
   "cell_type": "code",
   "execution_count": 26,
   "metadata": {},
   "outputs": [
    {
     "data": {
      "text/plain": "LogisticRegression(max_iter=1000)"
     },
     "execution_count": 26,
     "metadata": {},
     "output_type": "execute_result"
    }
   ],
   "source": [
    "# Your code here:\n",
    "logreg.fit(X_train, y_train)\n"
   ]
  },
  {
   "cell_type": "markdown",
   "metadata": {},
   "source": [
    "finally, import `confusion_matrix` and `accuracy_score` from `sklearn.metrics` and fit our testing data. Assign the fitted data to `y_pred` and print the confusion matrix as well as the accuracy score"
   ]
  },
  {
   "cell_type": "code",
   "execution_count": 27,
   "metadata": {},
   "outputs": [
    {
     "name": "stdout",
     "output_type": "stream",
     "text": [
      "[[302   7]\n",
      " [ 20  28]]\n",
      "0.9243697478991597\n"
     ]
    }
   ],
   "source": [
    "# Your code here:\n",
    "from sklearn.metrics import confusion_matrix, accuracy_score\n",
    "\n",
    "y_pred = logreg.predict(X_test)\n",
    "\n",
    "print(confusion_matrix(y_test, y_pred))\n",
    "print(accuracy_score(y_test, y_pred))\n"
   ]
  },
  {
   "cell_type": "markdown",
   "metadata": {},
   "source": [
    "What are your thoughts on the performance of the model? Write your conclusions below."
   ]
  },
  {
   "cell_type": "markdown",
   "metadata": {},
   "source": [
    "#### Our second algorithm is is DecisionTreeClassifier\n",
    "\n",
    "Though is it not required, we will fit a model using the training data and then test the performance of the model using the testing data. Start by loading `DecisionTreeClassifier` from scikit-learn and then initializing and fitting the model. We'll start off with a model where max_depth=3"
   ]
  },
  {
   "cell_type": "code",
   "execution_count": 28,
   "metadata": {},
   "outputs": [
    {
     "data": {
      "text/plain": "DecisionTreeClassifier(max_depth=3)"
     },
     "execution_count": 28,
     "metadata": {},
     "output_type": "execute_result"
    }
   ],
   "source": [
    "# Your code here:\n",
    "from sklearn.tree import DecisionTreeClassifier\n",
    "\n",
    "dt = DecisionTreeClassifier(max_depth=3)\n",
    "dt.fit(X_train, y_train)"
   ]
  },
  {
   "cell_type": "markdown",
   "metadata": {},
   "source": [
    "To test your model, compute the predicted probabilities, decide 0 or 1 using a threshold of 0.5 and print the confusion matrix as well as the accuracy score (on the test set!)"
   ]
  },
  {
   "cell_type": "code",
   "execution_count": 29,
   "metadata": {},
   "outputs": [
    {
     "name": "stdout",
     "output_type": "stream",
     "text": [
      "[[302   7]\n",
      " [ 20  28]]\n",
      "0.9243697478991597\n"
     ]
    }
   ],
   "source": [
    "# Your code here:\n",
    "print(confusion_matrix(y_test, y_pred))\n",
    "print(accuracy_score(y_test, y_pred))"
   ]
  },
  {
   "cell_type": "markdown",
   "metadata": {},
   "source": [
    "#### We'll create another DecisionTreeClassifier model with max_depth=5. \n",
    "Initialize and fit the model below and print the confusion matrix and the accuracy score."
   ]
  },
  {
   "cell_type": "code",
   "execution_count": 30,
   "metadata": {},
   "outputs": [
    {
     "data": {
      "text/plain": "DecisionTreeClassifier(max_depth=3)"
     },
     "execution_count": 30,
     "metadata": {},
     "output_type": "execute_result"
    }
   ],
   "source": [
    "# Your code here:\n",
    "from sklearn.tree import DecisionTreeClassifier\n",
    "\n",
    "dt = DecisionTreeClassifier(max_depth=3)\n",
    "dt.fit(X_train, y_train)"
   ]
  },
  {
   "cell_type": "markdown",
   "metadata": {},
   "source": [
    "Did you see an improvement in the confusion matrix when increasing max_depth to 5? Did you see an improvement in the accuracy score? Write your conclusions below."
   ]
  },
  {
   "cell_type": "code",
   "execution_count": 31,
   "metadata": {},
   "outputs": [
    {
     "name": "stdout",
     "output_type": "stream",
     "text": [
      "[[302   7]\n",
      " [ 20  28]]\n",
      "0.9243697478991597\n"
     ]
    }
   ],
   "source": [
    "# Your conclusions here:\n",
    "print(confusion_matrix(y_test, y_pred))\n",
    "print(accuracy_score(y_test, y_pred))"
   ]
  },
  {
   "cell_type": "markdown",
   "metadata": {},
   "source": [
    "# Bonus Challenge - Feature Scaling\n",
    "\n",
    "Problem-solving in machine learning is iterative. You can improve your model prediction with various techniques (there is a sweetspot for the time you spend and the improvement you receive though). Now you've completed only one iteration of ML analysis. There are more iterations you can conduct to make improvements. In order to be able to do that, you will need deeper knowledge in statistics and master more data analysis techniques. In this bootcamp, we don't have time to achieve that advanced goal. But you will make constant efforts after the bootcamp to eventually get there.\n",
    "\n",
    "However, now we do want you to learn one of the advanced techniques which is called *feature scaling*. The idea of feature scaling is to standardize/normalize the range of independent variables or features of the data. This can make the outliers more apparent so that you can remove them. This step needs to happen during Challenge 6 after you split the training and test data because you don't want to split the data again which makes it impossible to compare your results with and without feature scaling. For general concepts about feature scaling, click [here](https://en.wikipedia.org/wiki/Feature_scaling). To read deeper, click [here](https://medium.com/greyatom/why-how-and-when-to-scale-your-features-4b30ab09db5e).\n",
    "\n",
    "In the next cell, attempt to improve your model prediction accuracy by means of feature scaling. A library you can utilize is `sklearn.preprocessing.RobustScaler` ([documentation](https://scikit-learn.org/stable/modules/generated/sklearn.preprocessing.RobustScaler.html)). You'll use the `RobustScaler` to fit and transform your `X_train`, then transform `X_test`. You will use logistic regression to fit and predict your transformed data and obtain the accuracy score in the same way. Compare the accuracy score with your normalized data with the previous accuracy data. Is there an improvement?"
   ]
  },
  {
   "cell_type": "code",
   "execution_count": null,
   "metadata": {},
   "outputs": [],
   "source": [
    "# Your code here"
   ]
  }
 ],
 "metadata": {
  "kernelspec": {
   "display_name": "Python 3",
   "language": "python",
   "name": "python3"
  },
  "language_info": {
   "codemirror_mode": {
    "name": "ipython",
    "version": 3
   },
   "file_extension": ".py",
   "mimetype": "text/x-python",
   "name": "python",
   "nbconvert_exporter": "python",
   "pygments_lexer": "ipython3",
   "version": "3.9.9"
  },
  "toc": {
   "base_numbering": 1,
   "nav_menu": {},
   "number_sections": true,
   "sideBar": true,
   "skip_h1_title": false,
   "title_cell": "Table of Contents",
   "title_sidebar": "Contents",
   "toc_cell": true,
   "toc_position": {},
   "toc_section_display": true,
   "toc_window_display": false
  },
  "varInspector": {
   "cols": {
    "lenName": 16,
    "lenType": 16,
    "lenVar": 40
   },
   "kernels_config": {
    "python": {
     "delete_cmd_postfix": "",
     "delete_cmd_prefix": "del ",
     "library": "var_list.py",
     "varRefreshCmd": "print(var_dic_list())"
    },
    "r": {
     "delete_cmd_postfix": ") ",
     "delete_cmd_prefix": "rm(",
     "library": "var_list.r",
     "varRefreshCmd": "cat(var_dic_list()) "
    }
   },
   "types_to_exclude": [
    "module",
    "function",
    "builtin_function_or_method",
    "instance",
    "_Feature"
   ],
   "window_display": false
  }
 },
 "nbformat": 4,
 "nbformat_minor": 2
}