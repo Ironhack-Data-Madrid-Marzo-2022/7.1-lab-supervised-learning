{
 "cells": [
  {
   "cell_type": "code",
   "execution_count": 1,
   "id": "a4f50d55",
   "metadata": {},
   "outputs": [],
   "source": [
    "def street_fighter_selection(fighters, initial_position, moves):\n",
    "    initial_position = list(initial_position)\n",
    "    \n",
    "    for i in moves:\n",
    "        if i == \"up\":\n",
    "            initial_position[1]=0\n",
    "        elif i == \"down\":\n",
    "            initial_position[1]=1\n",
    "        elif i == \"right\":\n",
    "            initial_position[0] += 1\n",
    "        elif i == \"left\":\n",
    "            initial_position[0] -= 1\n",
    "\n",
    "    initial_position[0] = initial_position[0] % 6\n",
    "            \n",
    "            \n",
    "\n",
    "        \n",
    "    \n",
    "    \n",
    "    return fighters[initial_position[1]] [initial_position[0]]\n",
    "\n",
    "\n"
   ]
  },
  {
   "cell_type": "code",
   "execution_count": 3,
   "id": "63f02877",
   "metadata": {},
   "outputs": [
    {
     "data": {
      "text/plain": [
       "'Ken'"
      ]
     },
     "execution_count": 3,
     "metadata": {},
     "output_type": "execute_result"
    }
   ],
   "source": [
    "fighters = [\n",
    "[\"Ryu\", \"E.Honda\", \"Blanka\", \"Guile\", \"Balrog\", \"Vega\"],\n",
    "[\"Ken\", \"Chun Li\", \"Zangief\", \"Dhalsim\", \"Sagat\", \"M.Bison\"]\n",
    "]\n",
    "moves = [\"up\",\"down\",\"right\",\"left\"]\n",
    "\n",
    "initial_position=(0,0)\n",
    "\n",
    "street_fighter_selection(fighters, initial_position, moves)"
   ]
  },
  {
   "cell_type": "code",
   "execution_count": null,
   "id": "b120366d",
   "metadata": {},
   "outputs": [],
   "source": []
  }
 ],
 "metadata": {
  "kernelspec": {
   "display_name": "Python 3 (ipykernel)",
   "language": "python",
   "name": "python3"
  },
  "language_info": {
   "codemirror_mode": {
    "name": "ipython",
    "version": 3
   },
   "file_extension": ".py",
   "mimetype": "text/x-python",
   "name": "python",
   "nbconvert_exporter": "python",
   "pygments_lexer": "ipython3",
   "version": "3.9.12"
  }
 },
 "nbformat": 4,
 "nbformat_minor": 5
}
